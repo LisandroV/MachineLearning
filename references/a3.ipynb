{
 "cells": [
  {
   "cell_type": "code",
   "execution_count": 126,
   "metadata": {},
   "outputs": [],
   "source": [
    "import numpy as np\n",
    "import matplotlib.pyplot as plt"
   ]
  },
  {
   "cell_type": "code",
   "execution_count": 127,
   "metadata": {},
   "outputs": [],
   "source": [
    "def scale_image(im,width,height):\n",
    "    old_size = im.size  # old_size[0] is in (width, height) format\n",
    "    \n",
    "    if(old_size[0]>width):\n",
    "        im = im.resize((width,old_size[1]))\n",
    "        old_size = im.size\n",
    "        \n",
    "    if(old_size[1]>height):\n",
    "        im = im.resize((old_size[0],height))\n",
    "        old_size = im.size \n",
    "    \n",
    "    delta_w = width - old_size[0]\n",
    "    delta_h = height - old_size[1]\n",
    "    padding = (delta_w//2, delta_h//2, delta_w-(delta_w//2), delta_h-(delta_h//2))\n",
    "    new_im = ImageOps.expand(im, padding,fill=(255,255,255))\n",
    "    return new_im.convert('L')"
   ]
  },
  {
   "cell_type": "code",
   "execution_count": 128,
   "metadata": {},
   "outputs": [
    {
     "data": {
      "image/png": "[encoded data removed]",
      "text/plain": [
       "<Figure size 432x288 with 1 Axes>"
      ]
     },
     "metadata": {
      "needs_background": "light"
     },
     "output_type": "display_data"
    }
   ],
   "source": [
    "#AS NUMPY\n",
    "from PIL import Image, ImageOps\n",
    "from numpy import asarray\n",
    "\n",
    "scale = (64,32)\n",
    "\n",
    "im = Image.open('data/1_18-96.png')#.convert('L').resize(scale)\n",
    "\n",
    "im = Image.open('data/1_77-601.png')#.convert('L').resize(scale)\n",
    "\n",
    "new_im=scale_image(im,64,32)\n",
    "#new_im.show()\n",
    "\n",
    "data = asarray(new_im)\n",
    "\n",
    "plt.imshow(data,cmap='gray')\n",
    "plt.show()"
   ]
  },
  {
   "cell_type": "markdown",
   "metadata": {},
   "source": [
    "# Plot sizes\n",
    "size file generated with command:\n",
    "for entry in $(ls); do wc -c \"$entry\" | awk -F ' ' '{print $1}' >> image_sizes.dat; done"
   ]
  },
  {
   "cell_type": "code",
   "execution_count": 129,
   "metadata": {},
   "outputs": [
    {
     "name": "stdout",
     "output_type": "stream",
     "text": [
      "[406 606 171 ... 428 450 448]\n"
     ]
    },
    {
     "data": {
      "text/plain": [
       "3971"
      ]
     },
     "execution_count": 129,
     "metadata": {},
     "output_type": "execute_result"
    },
    {
     "data": {
      "image/png": "[encoded data removed]",
      "text/plain": [
       "<Figure size 432x288 with 1 Axes>"
      ]
     },
     "metadata": {
      "needs_background": "light"
     },
     "output_type": "display_data"
    }
   ],
   "source": [
    "b = []\n",
    "with open('image_sizes.dat') as infile:\n",
    "    lines = infile.readlines()\n",
    "    for line in lines:\n",
    "        b.append(int(line.strip()))\n",
    "\n",
    "sizes = np.array(b)\n",
    "print(sizes)\n",
    "\n",
    "plt.hist(sizes, bins=70)\n",
    "plt.ylabel('# of files')\n",
    "plt.xlabel('size');\n",
    "np.max(sizes)"
   ]
  },
  {
   "cell_type": "code",
   "execution_count": 130,
   "metadata": {},
   "outputs": [
    {
     "name": "stdout",
     "output_type": "stream",
     "text": [
      "TRAIN:  (7237, 2048)\n",
      "TEST:  (381, 2048)\n"
     ]
    }
   ],
   "source": [
    "from sklearn.model_selection import train_test_split\n",
    "import glob\n",
    "from sklearn.decomposition import PCA\n",
    "\n",
    "images = []\n",
    "files = list(glob.iglob(\"data/*\"))\n",
    "\n",
    "for f in files:\n",
    "    im = Image.open(f)\n",
    "    im = scale_image(im,64,32)\n",
    "    img = np.asarray(im)\n",
    "    images.append(np.reshape(img,64*32))\n",
    "\n",
    "images = np.array(images)\n",
    "\n",
    "X_train, X_test, train_names, test_names = train_test_split(images,files_addr,test_size=0.05, random_state=42)\n",
    "print(\"TRAIN: \",X_train.shape)\n",
    "print(\"TEST: \",X_test.shape)\n",
    "\n",
    "pca = PCA(n_components=2, whiten=False)\n",
    "data = pca.fit_transform(X_train)"
   ]
  },
  {
   "cell_type": "markdown",
   "metadata": {},
   "source": [
    "# MODEL"
   ]
  },
  {
   "cell_type": "code",
   "execution_count": 131,
   "metadata": {},
   "outputs": [
    {
     "name": "stdout",
     "output_type": "stream",
     "text": [
      "Estimated number of clusters: 43\n",
      "Estimated number of noise points: 881\n"
     ]
    }
   ],
   "source": [
    "from sklearn.cluster import DBSCAN\n",
    "from sklearn import metrics\n",
    "from sklearn.datasets import make_blobs\n",
    "from sklearn.preprocessing import StandardScaler\n",
    "from sklearn.decomposition import PCA\n",
    "from sklearn.cluster import KMeans\n",
    "\n",
    "db = DBSCAN(eps=26, min_samples=5,n_jobs=-1).fit(data)\n",
    "\n",
    "#db = KMeans(init=pca.components_, n_clusters=60, n_init=1)\n",
    "#db.fit(X_train)\n",
    "\n",
    "core_samples_mask = np.zeros_like(db.labels_, dtype=bool)\n",
    "core_samples_mask[db.core_sample_indices_] = True\n",
    "labels = db.labels_\n",
    "\n",
    "# Number of clusters in labels, ignoring noise if present.\n",
    "n_clusters_ = len(set(labels)) - (1 if -1 in labels else 0)\n",
    "n_noise_ = list(labels).count(-1)\n",
    "\n",
    "print('Estimated number of clusters: %d' % n_clusters_)\n",
    "print('Estimated number of noise points: %d' % n_noise_)\n",
    "#print(\"Homogeneity: %0.3f\" % metrics.homogeneity_score(labels_true, labels))\n",
    "#print(\"Completeness: %0.3f\" % metrics.completeness_score(labels_true, labels))\n",
    "#print(\"V-measure: %0.3f\" % metrics.v_measure_score(labels_true, labels))\n",
    "#print(\"Adjusted Rand Index: %0.3f\"\n",
    "#      % metrics.adjusted_rand_score(labels_true, labels))\n",
    "#print(\"Adjusted Mutual Information: %0.3f\"\n",
    "#      % metrics.adjusted_mutual_info_score(labels_true, labels))\n",
    "#print(\"Silhouette Coefficient: %0.3f\"\n",
    "#      % metrics.silhouette_score(X, labels))"
   ]
  },
  {
   "cell_type": "code",
   "execution_count": 132,
   "metadata": {},
   "outputs": [],
   "source": [
    "pred = db.fit_predict(pca.transform(X_test))\n",
    "classes = np.unique(pred)\n",
    "d = dict.fromkeys(classes, [])#dictionary with classes as key\n",
    "for i in range(len(pred)):\n",
    "    d[pred[i]].append(test_names[i].split(\"/\")[-1:][0])"
   ]
  },
  {
   "cell_type": "code",
   "execution_count": 133,
   "metadata": {},
   "outputs": [],
   "source": [
    "from jinja2 import Template\n",
    "t = Template(\"<h1>CLUSTER</h1><br>{% for clase in cluster %}{% for imag in cluster[clase] %}<li><img src='data/{{ imag }}'>{{ imag }}</li>{% endfor %}<hr>{% endfor %}\")\n",
    "html = t.render(cluster=d)\n",
    "with open(\"cluster.html\", 'w') as out:\n",
    "    out.write(html)\n"
   ]
  },
  {
   "cell_type": "code",
   "execution_count": null,
   "metadata": {},
   "outputs": [],
   "source": []
  }
 ],
 "metadata": {
  "kernelspec": {
   "display_name": "Python 3",
   "language": "python",
   "name": "python3"
  },
  "language_info": {
   "codemirror_mode": {
    "name": "ipython",
    "version": 3
   },
   "file_extension": ".py",
   "mimetype": "text/x-python",
   "name": "python",
   "nbconvert_exporter": "python",
   "pygments_lexer": "ipython3",
   "version": "3.7.6"
  }
 },
 "nbformat": 4,
 "nbformat_minor": 4
}
