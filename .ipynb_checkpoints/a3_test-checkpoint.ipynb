{
 "cells": [
  {
   "cell_type": "code",
   "execution_count": 58,
   "metadata": {},
   "outputs": [],
   "source": [
    "import numpy as np\n",
    "import matplotlib.pyplot as plt\n",
    "from sklearn.cluster import DBSCAN\n",
    "from sklearn import metrics\n",
    "from sklearn.datasets import make_blobs\n",
    "from sklearn.preprocessing import StandardScaler\n",
    "from sklearn.decomposition import PCA\n",
    "from sklearn.cluster import KMeans\n",
    "from sklearn.preprocessing import scale as escalar\n",
    "from time import time, strftime,gmtime\n",
    "\n",
    "from sklearn.model_selection import train_test_split\n",
    "import glob\n",
    "from sklearn.decomposition import PCA\n",
    "\n",
    "from PIL import Image, ImageOps\n",
    "from numpy import asarray\n",
    "\n",
    "from jinja2 import Template"
   ]
  },
  {
   "cell_type": "code",
   "execution_count": 59,
   "metadata": {},
   "outputs": [],
   "source": [
    "def scale_image(im,width,height):\n",
    "    old_size = im.size  # old_size[0] is in (width, height) format\n",
    "    \n",
    "    if(old_size[0]>width):\n",
    "        im = im.resize((width,old_size[1]))\n",
    "        old_size = im.size\n",
    "        \n",
    "    if(old_size[1]>height):\n",
    "        im = im.resize((old_size[0],height))\n",
    "        old_size = im.size \n",
    "    \n",
    "    delta_w = width - old_size[0]\n",
    "    delta_h = height - old_size[1]\n",
    "    padding = (delta_w//2, delta_h//2, delta_w-(delta_w//2), delta_h-(delta_h//2))\n",
    "    new_im = ImageOps.expand(im, padding,fill=(255,255,255))\n",
    "    return new_im.convert('L')"
   ]
  },
  {
   "cell_type": "code",
   "execution_count": 60,
   "metadata": {},
   "outputs": [
    {
     "data": {
      "image/png": "[encoded data removed]",
      "text/plain": [
       "<Figure size 432x288 with 1 Axes>"
      ]
     },
     "metadata": {
      "needs_background": "light"
     },
     "output_type": "display_data"
    }
   ],
   "source": [
    "#AS NUMPY\n",
    "\n",
    "\n",
    "scale = (64,32)\n",
    "\n",
    "im = Image.open('data/1_18-96.png')#.convert('L').resize(scale)\n",
    "\n",
    "im = Image.open('data/2_302-694.png')#.convert('L').resize(scale)\n",
    "\n",
    "new_im=scale_image(im,64,32)\n",
    "#new_im.show()\n",
    "\n",
    "data = asarray(new_im)\n",
    "\n",
    "plt.imshow(data,cmap='gray')\n",
    "plt.show()"
   ]
  },
  {
   "cell_type": "code",
   "execution_count": 61,
   "metadata": {},
   "outputs": [
    {
     "name": "stdout",
     "output_type": "stream",
     "text": [
      "TRAIN:  (7237, 2048)\n",
      "TEST:  (381, 2048)\n"
     ]
    }
   ],
   "source": [
    "images = []\n",
    "files = list(glob.iglob(\"data/*\"))\n",
    "\n",
    "for f in files:\n",
    "    im = Image.open(f)\n",
    "    im = scale_image(im,64,32)\n",
    "    img = np.asarray(im)\n",
    "    images.append(np.reshape(img,64*32))\n",
    "\n",
    "images = np.array(images)\n",
    "\n",
    "X_train, X_test, train_names, test_names = train_test_split(images,files,test_size=0.05, random_state=42)\n",
    "print(\"TRAIN: \",X_train.shape)\n",
    "print(\"TEST: \",X_test.shape)"
   ]
  },
  {
   "cell_type": "markdown",
   "metadata": {},
   "source": [
    "# MODEL"
   ]
  },
  {
   "cell_type": "code",
   "execution_count": 62,
   "metadata": {},
   "outputs": [
    {
     "name": "stdout",
     "output_type": "stream",
     "text": [
      "01:13\n"
     ]
    }
   ],
   "source": [
    "from sklearn.preprocessing import scale\n",
    "\n",
    "data = escalar(X_train)\n",
    "\n",
    "n_samples, n_features = data.shape\n",
    "n_digits = 70\n",
    "\n",
    "\n",
    "def bench_k_means(estimator, name, data):\n",
    "    t0 = time()\n",
    "    estimator.fit(data)\n",
    "    print((time() - t0))\n",
    "\n",
    "start_time = time()\n",
    "estimator = KMeans(init='k-means++', n_clusters=n_digits, n_init=5,n_jobs=-1)\n",
    "#reduced_data = PCA(n_components=2).fit_transform(data)\n",
    "#estimator.fit(reduced_data)\n",
    "estimator.fit(data)\n",
    "training_time = time() - start_time\n",
    "string_time = strftime(\"%M:%S\", gmtime(training_time))\n",
    "print(string_time)\n",
    "#bench_k_means(KMeans(init='random', n_clusters=n_digits, n_init=5),name=\"random\", data=data)"
   ]
  },
  {
   "cell_type": "code",
   "execution_count": 63,
   "metadata": {},
   "outputs": [],
   "source": [
    "#pred = estimator.predict(escalar(X_test))\n",
    "#pred = estimator.predict(PCA(n_components=2).fit_transform(data))\n",
    "pred = estimator.predict(data)\n",
    "classes = np.unique(pred)\n",
    "d = dict.fromkeys(classes, [])#dictionary with classes as key\n",
    "for i in range(len(pred)):\n",
    "    d[pred[i]]= d[pred[i]] + [train_names[i].split(\"/\")[-1:][0]]"
   ]
  },
  {
   "cell_type": "code",
   "execution_count": 64,
   "metadata": {},
   "outputs": [],
   "source": [
    "templ = open('template.html', 'r')\n",
    "string_template = templ.read().replace('\\n', '')\n",
    "\n",
    "t = Template(string_template)\n",
    "html = t.render(cluster=d,time=string_time,n=len(pred))\n",
    "with open(\"cluster.html\", 'w') as out:\n",
    "    out.write(html)\n"
   ]
  },
  {
   "cell_type": "code",
   "execution_count": null,
   "metadata": {},
   "outputs": [],
   "source": []
  }
 ],
 "metadata": {
  "kernelspec": {
   "display_name": "Python 3",
   "language": "python",
   "name": "python3"
  },
  "language_info": {
   "codemirror_mode": {
    "name": "ipython",
    "version": 3
   },
   "file_extension": ".py",
   "mimetype": "text/x-python",
   "name": "python",
   "nbconvert_exporter": "python",
   "pygments_lexer": "ipython3",
   "version": "3.7.6"
  }
 },
 "nbformat": 4,
 "nbformat_minor": 4
}
